{
 "cells": [
  {
   "cell_type": "markdown",
   "id": "98565c17",
   "metadata": {},
   "source": [
    "# **Mobile Game Company's Rolling Retention Analysis**"
   ]
  },
  {
   "cell_type": "code",
   "execution_count": null,
   "id": "498c76aa",
   "metadata": {},
   "outputs": [],
   "source": [
    "#set GOOGLE_APPLICATION_CREDENTIALS=KEY_PATH\n",
    "##keypath is the json key of service account\n",
    "import os\n",
    "os.environ[\"GOOGLE_APPLICATION_CREDENTIALS\"]=\"\""
   ]
  },
  {
   "cell_type": "code",
   "execution_count": null,
   "id": "f6cbbea6",
   "metadata": {},
   "outputs": [],
   "source": [
    "%load_ext google.cloud.bigquery"
   ]
  },
  {
   "cell_type": "markdown",
   "id": "8043575a",
   "metadata": {},
   "source": [
    "# Item Info table"
   ]
  },
  {
   "cell_type": "code",
   "execution_count": null,
   "id": "e70d45b7",
   "metadata": {},
   "outputs": [],
   "source": [
    "%%bigquery\n",
    "SELECT *\n",
    "FROM\n",
    "  `junobigqueryclass.game_data.item_info`\n",
    "LIMIT\n",
    "  1"
   ]
  },
  {
   "cell_type": "markdown",
   "id": "e9ff84b3",
   "metadata": {},
   "source": [
    "# Matches Info table"
   ]
  },
  {
   "cell_type": "code",
   "execution_count": null,
   "id": "6b3d15cc",
   "metadata": {},
   "outputs": [],
   "source": [
    "%%bigquery\n",
    "SELECT *\n",
    "FROM `junobigqueryclass.game_data.matches_info` \n"
   ]
  },
  {
   "cell_type": "markdown",
   "id": "0e3e9f9f",
   "metadata": {},
   "source": [
    "# Player Info table"
   ]
  },
  {
   "cell_type": "code",
   "execution_count": null,
   "id": "bb48ddbe",
   "metadata": {},
   "outputs": [],
   "source": [
    "%%bigquery\n",
    "SELECT *\n",
    "FROM `junobigqueryclass.game_data.player_info` \n"
   ]
  },
  {
   "cell_type": "markdown",
   "id": "fc87ea49",
   "metadata": {},
   "source": [
    "# Purchase Info table"
   ]
  },
  {
   "cell_type": "code",
   "execution_count": null,
   "id": "6b0498de",
   "metadata": {},
   "outputs": [],
   "source": [
    "%%bigquery\n",
    "SELECT *\n",
    "FROM `junobigqueryclass.game_data.purchase_info` \n",
    "LIMIT 1"
   ]
  },
  {
   "cell_type": "markdown",
   "id": "7832e465",
   "metadata": {},
   "source": [
    "## **Finding Player Joined and Retained players on a particular day**"
   ]
  },
  {
   "cell_type": "markdown",
   "id": "745bb668",
   "metadata": {},
   "source": [
    "#### 1. The total number of players who joined on a given day"
   ]
  },
  {
   "cell_type": "code",
   "execution_count": null,
   "id": "263374c4",
   "metadata": {},
   "outputs": [],
   "source": [
    "%%bigquery\n",
    "SELECT joined as joining_day, \n",
    "COUNT(player_id) players_joined\n",
    "FROM `junobigqueryclass.game_data.player_info` \n",
    "GROUP BY 1\n",
    "ORDER BY 1"
   ]
  },
  {
   "cell_type": "markdown",
   "id": "4851aade",
   "metadata": {},
   "source": [
    "#### 2. Last play day table"
   ]
  },
  {
   "cell_type": "code",
   "execution_count": null,
   "id": "d6155c6b",
   "metadata": {},
   "outputs": [],
   "source": [
    "%%bigquery\n",
    "SELECT player_id as player_lastday,\n",
    "    MAX(day) as lastplay_day\n",
    "FROM `junobigqueryclass.game_data.matches_info` \n",
    "GROUP BY 1"
   ]
  },
  {
   "cell_type": "markdown",
   "id": "a223bf09",
   "metadata": {},
   "source": [
    "#### 3. Joining lastplay table for each player "
   ]
  },
  {
   "cell_type": "code",
   "execution_count": null,
   "id": "b2cb513c",
   "metadata": {},
   "outputs": [],
   "source": [
    "%%bigquery\n",
    "SELECT players.player_id,\n",
    "    players.joined as joining_day,\n",
    "    lastplay.lastplay_day\n",
    "FROM `junobigqueryclass.game_data.player_info` players\n",
    "JOIN \n",
    "(\n",
    "SELECT player_id as player_lastday,\n",
    "    MAX(day) as lastplay_day\n",
    "FROM `junobigqueryclass.game_data.matches_info` \n",
    "GROUP BY 1\n",
    ") as lastplay\n",
    "\n",
    "ON players.player_id = lastplay.player_lastday"
   ]
  },
  {
   "cell_type": "markdown",
   "id": "b863e1e6",
   "metadata": {},
   "source": [
    "#### 4. Getting the list of retained player from above table\n",
    "##### condition : if a given player play a match 30 days after he or she joined is a retained player"
   ]
  },
  {
   "cell_type": "code",
   "execution_count": null,
   "id": "67f9c2b8",
   "metadata": {},
   "outputs": [],
   "source": [
    "%%bigquery\n",
    "SELECT days_info.joining_day,\n",
    "        days_info.player_id as player_id,\n",
    "        CASE \n",
    "        WHEN days_info.lastplay_day - days_info.joining_day > 30 THEN 1\n",
    "        ELSE 0\n",
    "        END AS retained\n",
    "FROM\n",
    "(SELECT players.player_id,\n",
    "    players.joined as joining_day,\n",
    "    lastplay.lastplay_day\n",
    "FROM `junobigqueryclass.game_data.player_info` players\n",
    "JOIN \n",
    "(\n",
    "SELECT player_id as player_lastday,\n",
    "    MAX(day) as lastplay_day\n",
    "FROM `junobigqueryclass.game_data.matches_info` \n",
    "GROUP BY 1\n",
    ") as lastplay\n",
    "\n",
    "ON players.player_id = lastplay.player_lastday) as days_info\n",
    "ORDER BY 1\n",
    "\n"
   ]
  },
  {
   "cell_type": "markdown",
   "id": "5d955680",
   "metadata": {},
   "source": [
    "#### 5.  Aggregating over Joining_Day to get total players joined vs total players retained"
   ]
  },
  {
   "cell_type": "code",
   "execution_count": null,
   "id": "ada796f2",
   "metadata": {},
   "outputs": [],
   "source": [
    "%%bigquery\n",
    "\n",
    "SELECT DISTINCT joining_day as day, \n",
    "    COUNT(player_id) OVER (PARTITION BY joining_day) players_joined,\n",
    "    SUM(retained) OVER (PARTITION BY joining_day) AS players_retained,\n",
    "\n",
    "FROM\n",
    "(\n",
    "SELECT days_info.joining_day,\n",
    "        days_info.player_id as player_id,\n",
    "        CASE \n",
    "        WHEN days_info.lastplay_day - days_info.joining_day > 30 THEN 1\n",
    "        ELSE 0\n",
    "        END AS retained\n",
    "FROM\n",
    "(SELECT players.player_id,\n",
    "    players.joined as joining_day,\n",
    "    lastplay.lastplay_day\n",
    "FROM `junobigqueryclass.game_data.player_info` players\n",
    "JOIN \n",
    "(\n",
    "SELECT player_id as player_lastday,\n",
    "    MAX(day) as lastplay_day\n",
    "FROM `junobigqueryclass.game_data.matches_info` \n",
    "GROUP BY 1\n",
    ") as lastplay\n",
    "\n",
    "ON players.player_id = lastplay.player_lastday) as days_info\n",
    "ORDER BY 1\n",
    ") AS t2\n",
    "ORDER BY 1\n"
   ]
  },
  {
   "cell_type": "markdown",
   "id": "bd847976",
   "metadata": {},
   "source": [
    "# Fractional Retention\n",
    "#### *(players_retained divided by players_joined)*"
   ]
  },
  {
   "cell_type": "markdown",
   "id": "2fbd1b25",
   "metadata": {},
   "source": [
    "#### 6. Dividing column third by second to get fractional retention"
   ]
  },
  {
   "cell_type": "code",
   "execution_count": null,
   "id": "04b3a9c5",
   "metadata": {},
   "outputs": [],
   "source": [
    "%%bigquery\n",
    "SELECT \n",
    "  DISTINCT joining_day as day, \n",
    "  COUNT(player_id) OVER (PARTITION BY joining_day) players_joined, \n",
    "  SUM(retained) OVER (PARTITION BY joining_day) AS players_retained, \n",
    "  SUM(retained) OVER (PARTITION BY joining_day) / COUNT(player_id) OVER (PARTITION BY joining_day) fractional_retention \n",
    "FROM \n",
    "  (\n",
    "    SELECT \n",
    "      days_info.joining_day, \n",
    "      days_info.player_id as player_id, \n",
    "      CASE WHEN days_info.lastplay_day - days_info.joining_day > 30 THEN 1 ELSE 0 END AS retained \n",
    "    FROM \n",
    "      (\n",
    "        SELECT \n",
    "          players.player_id, \n",
    "          players.joined as joining_day, \n",
    "          lastplay.lastplay_day \n",
    "        FROM \n",
    "          `junobigqueryclass.game_data.player_info` players \n",
    "          JOIN (\n",
    "            SELECT \n",
    "              player_id as player_lastday, \n",
    "              MAX(day) as lastplay_day \n",
    "            FROM \n",
    "              `junobigqueryclass.game_data.matches_info` \n",
    "            GROUP BY \n",
    "              1\n",
    "          ) as lastplay ON players.player_id = lastplay.player_lastday\n",
    "      ) as days_info\n",
    "  ) \n",
    "ORDER BY \n",
    "  1\n"
   ]
  },
  {
   "cell_type": "markdown",
   "id": "008222a0",
   "metadata": {},
   "source": [
    "# Do players with rolling 30-day retention spend more?\n"
   ]
  },
  {
   "cell_type": "markdown",
   "id": "38e4688d",
   "metadata": {},
   "source": [
    "#### 7. Joining Purchase_info table and item_info table to get money spent by each player"
   ]
  },
  {
   "cell_type": "code",
   "execution_count": null,
   "id": "7fb7c0a0",
   "metadata": {},
   "outputs": [],
   "source": [
    "%%bigquery\n",
    "SELECT player_id,\n",
    "       SUM(price)\n",
    "FROM `junobigqueryclass.game_data.item_info` i\n",
    "JOIN `junobigqueryclass.game_data.purchase_info` p\n",
    "ON i.item_id = p.item_id\n",
    "GROUP BY 1"
   ]
  },
  {
   "cell_type": "markdown",
   "id": "9836b91f",
   "metadata": {},
   "source": [
    "#### 8.  Using the same logic from cell In[5] above to get retained and unretained players and joining with the table above"
   ]
  },
  {
   "cell_type": "code",
   "execution_count": null,
   "id": "654523c3",
   "metadata": {},
   "outputs": [],
   "source": [
    "%%bigquery\n",
    "SELECT *\n",
    "FROM\n",
    "(SELECT player_id as pid,\n",
    "       SUM(price) as amount_spent\n",
    "FROM `junobigqueryclass.game_data.item_info` i\n",
    "JOIN `junobigqueryclass.game_data.purchase_info` p\n",
    "ON i.item_id = p.item_id\n",
    "GROUP BY 1) AS player_spent\n",
    "\n",
    "JOIN\n",
    "(SELECT days_info.player_id as player_id,\n",
    "        CASE \n",
    "        WHEN days_info.lastplay_day - days_info.joining_day > 30 THEN \"retained\"\n",
    "        ELSE 'unretained'\n",
    "        END AS player_status\n",
    "FROM\n",
    "(SELECT players.player_id,\n",
    "    players.joined as joining_day,\n",
    "    lastplay.lastplay_day\n",
    "FROM `junobigqueryclass.game_data.player_info` players\n",
    "JOIN \n",
    "(\n",
    "SELECT player_id as player_lastday,\n",
    "    MAX(day) as lastplay_day\n",
    "FROM `junobigqueryclass.game_data.matches_info` \n",
    "GROUP BY 1\n",
    ") as lastplay\n",
    "\n",
    "ON players.player_id = lastplay.player_lastday) as days_info) as player_status\n",
    "\n",
    "ON player_status.player_id = player_spent.pid"
   ]
  },
  {
   "cell_type": "markdown",
   "id": "dbf205e1",
   "metadata": {},
   "source": [
    "#### 9. Finally we aggregate the data over the `player_status` to find the sum of the amount spent by retained and unretained players and compare it."
   ]
  },
  {
   "cell_type": "code",
   "execution_count": null,
   "id": "2318140b",
   "metadata": {},
   "outputs": [],
   "source": [
    "%%bigquery\n",
    "SELECT player_status,\n",
    "    SUM(amount_spent) as total_spent\n",
    "FROM\n",
    "\n",
    "(SELECT *\n",
    "FROM\n",
    "(SELECT player_id as pid,\n",
    "       SUM(price) as amount_spent\n",
    "FROM `junobigqueryclass.game_data.item_info` i\n",
    "JOIN `junobigqueryclass.game_data.purchase_info` p\n",
    "ON i.item_id = p.item_id\n",
    "GROUP BY 1) AS player_spent\n",
    "\n",
    "JOIN\n",
    "(SELECT days_info.player_id as player_id,\n",
    "        CASE \n",
    "        WHEN days_info.lastplay_day - days_info.joining_day > 30 THEN \"retained\"\n",
    "        ELSE 'unretained'\n",
    "        END AS player_status\n",
    "FROM\n",
    "(SELECT players.player_id,\n",
    "    players.joined as joining_day,\n",
    "    lastplay.lastplay_day\n",
    "FROM `junobigqueryclass.game_data.player_info` players\n",
    "JOIN \n",
    "(\n",
    "SELECT player_id as player_lastday,\n",
    "    MAX(day) as lastplay_day\n",
    "FROM `junobigqueryclass.game_data.matches_info` \n",
    "GROUP BY 1\n",
    ") as lastplay\n",
    "\n",
    "ON players.player_id = lastplay.player_lastday) as days_info) as player_status\n",
    "\n",
    "ON player_status.player_id = player_spent.pid) as table1\n",
    "\n",
    "GROUP BY 1\n",
    "ORDER BY 2 DESC"
   ]
  },
  {
   "cell_type": "markdown",
   "id": "ca37e5ed",
   "metadata": {},
   "source": [
    "#### *This shows the retained players have spent more than the unretained players*"
   ]
  },
  {
   "cell_type": "markdown",
   "id": "7a11a2b8",
   "metadata": {},
   "source": [
    "---"
   ]
  },
  {
   "cell_type": "markdown",
   "id": "b22e6aa4",
   "metadata": {},
   "source": [
    "# **Do players with rolling 30-day retention come from specific regions?**"
   ]
  },
  {
   "cell_type": "markdown",
   "id": "e9ead1aa",
   "metadata": {},
   "source": [
    "#### 10. Using the query in In[12] filtering the data for retained players and joining it with player info table to get location specific retention data for players."
   ]
  },
  {
   "cell_type": "code",
   "execution_count": null,
   "id": "fecd47a0",
   "metadata": {},
   "outputs": [],
   "source": [
    "%%bigquery\n",
    "SELECT location,\n",
    "    COUNT(player_id) as total_retained_players\n",
    "FROM\n",
    "(\n",
    "SELECT days_info.joining_day,\n",
    "        days_info.player_id as pid\n",
    "    \n",
    "FROM\n",
    "(SELECT players.player_id,\n",
    "    players.joined as joining_day,\n",
    "    lastplay.lastplay_day\n",
    "FROM `junobigqueryclass.game_data.player_info` players\n",
    "JOIN \n",
    "(\n",
    "SELECT player_id as player_lastday,\n",
    "    MAX(day) as lastplay_day\n",
    "FROM `junobigqueryclass.game_data.matches_info` \n",
    "GROUP BY 1\n",
    ") as lastplay\n",
    "\n",
    "ON players.player_id = lastplay.player_lastday) as days_info\n",
    "\n",
    "WHERE days_info.lastplay_day - days_info.joining_day > 30\n",
    ") AS r_info\n",
    "\n",
    "JOIN `junobigqueryclass.game_data.player_info` as p_info\n",
    "\n",
    "ON p_info.player_id = r_info.pid\n",
    "GROUP BY 1\n",
    "ORDER BY 2 DESC"
   ]
  },
  {
   "cell_type": "markdown",
   "id": "8b7e9763",
   "metadata": {},
   "source": [
    "###  *Most Retained players came from South America*"
   ]
  }
 ],
 "metadata": {
  "kernelspec": {
   "display_name": "Python 3",
   "language": "python",
   "name": "python3"
  },
  "language_info": {
   "codemirror_mode": {
    "name": "ipython",
    "version": 3
   },
   "file_extension": ".py",
   "mimetype": "text/x-python",
   "name": "python",
   "nbconvert_exporter": "python",
   "pygments_lexer": "ipython3",
   "version": "3.8.5"
  }
 },
 "nbformat": 4,
 "nbformat_minor": 5
}
