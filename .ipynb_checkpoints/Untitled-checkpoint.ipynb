{
 "cells": [
  {
   "cell_type": "code",
   "execution_count": null,
   "id": "0561c281",
   "metadata": {},
   "outputs": [],
   "source": [
    "##to install bigquery client library in python\n",
    "#pip install --upgrade google-cloud-BigQuery\n",
    "#conda install -c conda-forge google-cloud-bigquery google-cloud-bigquery-storage pandas pyarrow\n",
    "\n",
    "## to upgrade pandas gbq\n",
    "#conda install pandas-gbq --channel conda-forge\n",
    "#!pip install --upgrade 'google-cloud-bigquery[bqstorage,pandas]'\n"
   ]
  },
  {
   "cell_type": "code",
   "execution_count": 1,
   "id": "498c76aa",
   "metadata": {},
   "outputs": [],
   "source": [
    "#set GOOGLE_APPLICATION_CREDENTIALS=KEY_PATH\n",
    "##keypath is the json key of service account saved on pc\n",
    "import os\n",
    "os.environ[\"GOOGLE_APPLICATION_CREDENTIALS\"]=\"C:/Users/kashi/Desktop/JUNO bootcamp info-Data analyst/junobigqueryclass-key.json\""
   ]
  },
  {
   "cell_type": "code",
   "execution_count": 3,
   "id": "f6cbbea6",
   "metadata": {},
   "outputs": [],
   "source": [
    "%load_ext google.cloud.bigquery"
   ]
  },
  {
   "cell_type": "code",
   "execution_count": 4,
   "id": "e70d45b7",
   "metadata": {},
   "outputs": [
    {
     "name": "stderr",
     "output_type": "stream",
     "text": [
      "Query complete after 0.01s: 100%|█████████████████████████████████████████████████████| 1/1 [00:00<00:00, 21.22query/s]\n",
      "Downloading: 100%|███████████████████████████████████████████████████████████████████| 10/10 [00:02<00:00,  4.11rows/s]\n"
     ]
    },
    {
     "data": {
      "text/html": [
       "<div>\n",
       "<style scoped>\n",
       "    .dataframe tbody tr th:only-of-type {\n",
       "        vertical-align: middle;\n",
       "    }\n",
       "\n",
       "    .dataframe tbody tr th {\n",
       "        vertical-align: top;\n",
       "    }\n",
       "\n",
       "    .dataframe thead th {\n",
       "        text-align: right;\n",
       "    }\n",
       "</style>\n",
       "<table border=\"1\" class=\"dataframe\">\n",
       "  <thead>\n",
       "    <tr style=\"text-align: right;\">\n",
       "      <th></th>\n",
       "      <th>item_id</th>\n",
       "      <th>price</th>\n",
       "    </tr>\n",
       "  </thead>\n",
       "  <tbody>\n",
       "    <tr>\n",
       "      <th>0</th>\n",
       "      <td>35d02644f8f74e818546a6803600dd8a</td>\n",
       "      <td>2.00</td>\n",
       "    </tr>\n",
       "    <tr>\n",
       "      <th>1</th>\n",
       "      <td>951774e00bed4e11ab5ce35de42b44c2</td>\n",
       "      <td>2.75</td>\n",
       "    </tr>\n",
       "    <tr>\n",
       "      <th>2</th>\n",
       "      <td>5456eb5a5a8a4d41a207f57241ea3822</td>\n",
       "      <td>3.25</td>\n",
       "    </tr>\n",
       "    <tr>\n",
       "      <th>3</th>\n",
       "      <td>7bc51097abad4cee8c98ab168d41cc3b</td>\n",
       "      <td>3.50</td>\n",
       "    </tr>\n",
       "    <tr>\n",
       "      <th>4</th>\n",
       "      <td>6a8f72d695c148549b318b10ee765a7d</td>\n",
       "      <td>4.00</td>\n",
       "    </tr>\n",
       "    <tr>\n",
       "      <th>5</th>\n",
       "      <td>153c4468da814b0c99ba0b4ccb13458a</td>\n",
       "      <td>4.50</td>\n",
       "    </tr>\n",
       "    <tr>\n",
       "      <th>6</th>\n",
       "      <td>ad2f3f51b99d49fdbed23ef97304eb44</td>\n",
       "      <td>4.75</td>\n",
       "    </tr>\n",
       "    <tr>\n",
       "      <th>7</th>\n",
       "      <td>a51e298b44074d088918feefa44ea971</td>\n",
       "      <td>5.25</td>\n",
       "    </tr>\n",
       "    <tr>\n",
       "      <th>8</th>\n",
       "      <td>355e80500c3d4680ae28f5576ff23429</td>\n",
       "      <td>5.75</td>\n",
       "    </tr>\n",
       "    <tr>\n",
       "      <th>9</th>\n",
       "      <td>fac65c63dd3a4bec9cc12b1059f0a3dd</td>\n",
       "      <td>6.50</td>\n",
       "    </tr>\n",
       "  </tbody>\n",
       "</table>\n",
       "</div>"
      ],
      "text/plain": [
       "                            item_id  price\n",
       "0  35d02644f8f74e818546a6803600dd8a   2.00\n",
       "1  951774e00bed4e11ab5ce35de42b44c2   2.75\n",
       "2  5456eb5a5a8a4d41a207f57241ea3822   3.25\n",
       "3  7bc51097abad4cee8c98ab168d41cc3b   3.50\n",
       "4  6a8f72d695c148549b318b10ee765a7d   4.00\n",
       "5  153c4468da814b0c99ba0b4ccb13458a   4.50\n",
       "6  ad2f3f51b99d49fdbed23ef97304eb44   4.75\n",
       "7  a51e298b44074d088918feefa44ea971   5.25\n",
       "8  355e80500c3d4680ae28f5576ff23429   5.75\n",
       "9  fac65c63dd3a4bec9cc12b1059f0a3dd   6.50"
      ]
     },
     "execution_count": 4,
     "metadata": {},
     "output_type": "execute_result"
    }
   ],
   "source": [
    "%%bigquery\n",
    "SELECT *\n",
    "FROM\n",
    "  `junobigqueryclass.game_data.item_info`\n",
    "LIMIT\n",
    "  10"
   ]
  },
  {
   "cell_type": "code",
   "execution_count": null,
   "id": "57b02b53",
   "metadata": {},
   "outputs": [],
   "source": []
  }
 ],
 "metadata": {
  "kernelspec": {
   "display_name": "Python 3",
   "language": "python",
   "name": "python3"
  },
  "language_info": {
   "codemirror_mode": {
    "name": "ipython",
    "version": 3
   },
   "file_extension": ".py",
   "mimetype": "text/x-python",
   "name": "python",
   "nbconvert_exporter": "python",
   "pygments_lexer": "ipython3",
   "version": "3.8.5"
  }
 },
 "nbformat": 4,
 "nbformat_minor": 5
}
